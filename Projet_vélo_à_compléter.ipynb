{
  "nbformat": 4,
  "nbformat_minor": 0,
  "metadata": {
    "kernelspec": {
      "display_name": "Python 3",
      "language": "python",
      "name": "python3"
    },
    "language_info": {
      "codemirror_mode": {
        "name": "ipython",
        "version": 3
      },
      "file_extension": ".py",
      "mimetype": "text/x-python",
      "name": "python",
      "nbconvert_exporter": "python",
      "pygments_lexer": "ipython3",
      "version": "3.7.3"
    },
    "colab": {
      "name": "Projet_vélo_à_compléter.ipynb",
      "provenance": [],
      "toc_visible": true,
      "include_colab_link": true
    }
  },
  "cells": [
    {
      "cell_type": "markdown",
      "metadata": {
        "id": "view-in-github",
        "colab_type": "text"
      },
      "source": [
        "<a href=\"https://colab.research.google.com/github/NAWELMALKI/EXO1/blob/master/Projet_v%C3%A9lo_%C3%A0_compl%C3%A9ter.ipynb\" target=\"_parent\"><img src=\"https://colab.research.google.com/assets/colab-badge.svg\" alt=\"Open In Colab\"/></a>"
      ]
    },
    {
      "cell_type": "markdown",
      "metadata": {
        "id": "YvfScgerQYaD"
      },
      "source": [
        "# Projet de dimensionnement d’un cadre de vélo en composites stratifiés d’UD\n",
        "\n",
        "\n"
      ]
    },
    {
      "cell_type": "markdown",
      "metadata": {
        "id": "ObujOYeaeWQH"
      },
      "source": [
        "## Introduction\n",
        "\n",
        "Les matériaux composites à fibres de carbone et matrice époxy sont très utilisés dans le monde\n",
        "du matériel de sport et notamment en cyclisme du fait de leurs très bonnes propriétés spécifiques.\n",
        "\n",
        "On s’intéresse ici plus particulièrement au pré-dimensionnement d’un cadre de VTT en composite tel\n",
        "que celui représenté ci-dessous.\n",
        "\n",
        "Sur un cadre de vélo, on recherche essentiellement deux choses :\n",
        "- la légèreté\n",
        "- une grande rigidité de \"torsion\" pour offrir un bon rendement au pédalage ( [voir ici](https://youtu.be/lhwNQLWT6dU?t=124) )\n",
        "\n",
        "De plus, le cadre doit :\n",
        "- résister aux efforts\n",
        "- être le plus confortable possible, ce qui se traduit par une relative souplesse en traction/compression ([voir ici](https://youtu.be/lhwNQLWT6dU?t=89) )\n",
        "\n",
        "\n",
        "\n",
        "![lapierre](https://lapierre-shopware.accell.cloud/thumbnail/7c/c1/f1/1606913898/Prorace%20SAT%207.9%20-%20View%20(1)_2048x2048.jpg)"
      ]
    },
    {
      "cell_type": "markdown",
      "metadata": {
        "id": "EjCQLwp6lXpv"
      },
      "source": [
        "Le dimensionnement d'un cadre est un travail extrêmement complexe, fruit du savoir faire des fabricants. D'un point de vue du calcul, leur design complet fait appel à des outils numériques complexes qui sont hors du cadre de ce mini-projet ([voir ici](https://youtu.be/Gu3hoz0Y5pk?t=312)).\n",
        "\n",
        "On va donc faire des hypothèses simplificatrices, se placer dans un cadre d'utilisation restreint et  s'intéresser uniquement à un tronçon du cadre  en \"zone courante\" matérialisé par la croix rouge.\n",
        "\n",
        "\n",
        "![cadre](https://drive.google.com/uc?id=1RH0gw3tqon5kWT5VXaKocOuw8f0RXnPk)"
      ]
    },
    {
      "cell_type": "markdown",
      "metadata": {
        "id": "d72iPwmetB5x"
      },
      "source": [
        "## Hypothèses du problème\n",
        "\n",
        "\n",
        "En première approche, on peut représenter le cadre par un modèle plus ou moins complexe de poutres et y appliquer plusieurs cas de chargement (montée, sprint, danseuse, chute, etc).\n",
        "La résolution d'un tel modèle permet d'aboutir, sur les zones courantes relativement éloignées des jonctions entre tubes, à l'expression des moments de flexion et de torsion et des efforts normaux et tranchants.\n",
        "\n",
        "On définit le repère global $(\\vec{e}_x,\\vec{e}_y,\\vec{e}_z)$ ainsi que les points $A$, $B$, $C$ et $D$ sur la figure suivante :\n",
        "\n",
        "![repere](https://drive.google.com/uc?id=1PBWZ_6eD73MZ5fcadGFyZapRPZ0xg42p)\n",
        "\n",
        "Une première analyse d'un cas caractéristique d'un sprint montre qu'au point d'intérêt  on a les efforts et moments suivants :\n",
        "\n",
        "- Effort normal : $\\vec{N}_x=N_x\\, \\vec{e}_x$  (compression)\n",
        "- Effort tranchant : $\\vec{T}_z=T_z\\, \\vec{e}_z$\n",
        "- Moment fléchissant : $\\vec{M}_f=M_f\\, \\vec{e}_y$\n",
        "- Moment de torsion : $\\vec{M}_t=M_t\\, \\vec{e}_x$\n",
        "\n",
        "Où $N_x$, $T_z$, $M_f$ et $M_t$ sont donnés dans la table suivante:\n",
        "\n",
        "|     traction/compression    |effort tranchant | moment de flexion  |  moment de torsion |\n",
        "|:------------------:|------------|---|---|\n",
        "|  $N_x$ | $T_z$  | $M_f$   | $M_t$  \n",
        "|-200 N |-98 N| -200 N.m |  10 N.m  |  \n",
        "\n",
        "\n",
        "\n",
        "\n",
        "\n",
        "On considère par ailleurs que le tube du cadre est tubulaire avec un rayon moyen noté $R_m$ et une épaisseur $e$. Les rayons extérieurs et intérieurs s'écrivent $R=R_m+e/2$ et $r=R_m-e/2$ respectivement.\n",
        "On fixe dans un premier temps $R_m=20mm$. $e$ dépendra de la stratification et n'est donc pas connu *a priori*. On fait quand même l'hypothèse que $e<<R_m$. La figure suivante définit le repère local du stratifié $(\\vec{e}_x,\\vec{e}_r,\\vec{e}_\\theta)$ (attention, ce n'est pas le repère matériau propre à chaque pli!)\n",
        "\n",
        "\n",
        "![repere2](https://drive.google.com/uc?id=16d1j9nYg7gV3WVDYMFzUQZSQsD91iP_S)\n",
        "\n",
        "\n"
      ]
    },
    {
      "cell_type": "markdown",
      "metadata": {
        "id": "Zc1c8XP2_zpf"
      },
      "source": [
        "On précise que les efforts et moments génèrent des contraintes moyennes (dans l'épaisseur du stratifié) dans la section qui s'expriment dans le repère $(\\vec{e}_x,\\vec{e}_r,\\vec{e}_\\theta)$  par les expressions suivantes :\n",
        "\\begin{eqnarray}\n",
        "\\text{au point A : }&\n",
        "\\begin{array}{l}\n",
        "\\displaystyle \\sigma_{xx}=\\frac{N_x}{S}\\\\\n",
        "\\displaystyle\\sigma_{x\\theta}=2.\\frac{T_z}{S}+\\frac{M_t}{I_{g}}R_m  \n",
        "\\end{array}\\\\\n",
        "\\\\\n",
        "\\text{au points B : }&\n",
        "\\begin{array}{l}\n",
        "\\displaystyle \\sigma_{xx}=\\frac{N_x}{S}+\\frac{M_f}{I_{y}}R_m\\\\\n",
        "\\displaystyle\\sigma_{x\\theta}=\\frac{M_t}{I_{g}}R_m  \n",
        "\\end{array}\\\\\n",
        "\\\\\n",
        "\\text{au point C : }&\n",
        "\\begin{array}{l}\n",
        "\\displaystyle \\sigma_{xx}=\\frac{N_x}{S}\\\\\n",
        "\\displaystyle\\sigma_{x\\theta}=-2.\\frac{T_z}{S}+\\frac{M_t}{I_{g}}R_m  \n",
        "\\end{array}\\\\\n",
        "\\\\\n",
        "\\text{au points D : }&\n",
        "\\begin{array}{l}\n",
        "\\displaystyle \\sigma_{xx}=\\frac{N_x}{S}-\\frac{M_f}{I_{y}}R_m\\\\\n",
        "\\displaystyle\\sigma_{x\\theta}=\\frac{M_t}{I_{g}}R_m  \n",
        "\\end{array}\n",
        "\\end{eqnarray}\n",
        "On note que  $S$ est la section et que $I_y$ est le moment d'inertie de section par rapport à l'axe $\\vec{e}_y$ et $I_g$ est le moment polaire de la section. Pour une section tubulaire, on rappelle que :\n",
        "\\begin{eqnarray}\n",
        "S&=&\\pi (R^2-r^2)\\\\\n",
        "\\nonumber \\\\\n",
        "I_y&=&\\frac{\\pi}{4} (R^4-r^4)\\\\\n",
        "\\nonumber  \\\\\n",
        "I_g&=&\\frac{\\pi}{2} (R^4-r^4)\n",
        "\\end{eqnarray}\n",
        "\n",
        "Attention cependant, il faut noter que les efforts et moments $N_x$, $T_z$, $M_f$ et $M_t$ ne sont pas les efforts généralisés, au sens de la théorie des plaques, à appliquer aux points A, B, C et D.\n",
        "En effet,  $N_x$, $T_z$, $M_f$ et $M_t$ sont des composantes du torseur de cohésion issu de la théorie des poutres. Ils sont définis pour tout point de l'abscisse de la poutre.\n",
        "Le dimensionnement du stratifié se fait à l'échelle en dessous, on considère que le tube du cadre est une coque, et en chaque point A, B, C ou D, l'état de contrainte moyenne est différent. C'est cet état de contrainte moyenne en chaque point qui permet de remonter aux efforts généralisés à appliquer au stratifié.  \n",
        "\n",
        "\n",
        "\n",
        "Le tube est fabriqué par stratification de couches carbone/epoxy  préimprégnées unidirectionnelles.\n",
        "Chaque pli peut-être caractérisé par les paramètres  des  tables suivantes :\n",
        "\n",
        "\n",
        "\n",
        "                 \n",
        "|    $E_{f}$ |     $E_{m}$ |$\\nu_{fm}$ |  $G_{fm}$ | $\\rho$             | $e_{pli}$       |\n",
        "|------------|-------------|----------|------------|--------------------|--------|\n",
        "|  $126$ GPa |$11$ GPa      |  $0.28$  |  $6.6$     | $1580\\, kg.m^{-3}$ |$0.25\\, mm$|\n",
        "\n",
        "\n",
        "    \n",
        "       \n",
        "\n",
        "           \n",
        "           \n",
        "\n",
        "\n",
        "|    $Xt$ |     $X_c$ |$Y_t$ |  $Y_c$ | $S_c$    |\n",
        "|---------|-----------|------|--------|----------|\n",
        "|  $1950$ MPa |$-1000$ MPa      |  $48$ MPa  |  $-200$ MPa     | $179$ MPa |\n",
        "\n",
        "\n"
      ]
    },
    {
      "cell_type": "markdown",
      "metadata": {
        "id": "n6YSv8WkDwfV"
      },
      "source": [
        "# Travail demandé"
      ]
    },
    {
      "cell_type": "markdown",
      "metadata": {
        "id": "MKUIc_L1m_BN"
      },
      "source": [
        "Avant de commencer le travail de dimensionnement à proprement parlé, il faut que vous alliez compléter le fichier CLT.ipynb. Il contient les fonctions dont vous allez avoir besoin pour traiter le travail de ce notebook. Rdv sur CLT.ipynb ..."
      ]
    },
    {
      "cell_type": "markdown",
      "metadata": {
        "id": "6Xqt6MkyDzQY"
      },
      "source": [
        "\n",
        "À partir des éléments présentés précédemment, il vous est demandé de mettre en œuvre le code de CLT  qui vous aurez préalablement développé en Python afin de déterminer une stratification acceptable vis à vis du cahier des charges :\n",
        "\n",
        "* raideur en torsion : $K_t > 9\\times 10^9 N.mm$ (voir définition de $K_t$  plus bas)\n",
        "* raideur axiale :  $4 \\times 10^6 N < K_a < 18 \\times 10^6 N$ (voir définition de $K_a$  plus bas)\n",
        "* vérification du critère de rupture de Tsai-Wu pour les effort donnés plus haut en configuration de sprint. On prendra de plus une marge de sécurité de $5$. On ne s'intéressera qu'aux points $A$, $B$, $C$ et $D$.\n",
        "\n",
        "Attention, les efforts généralisés à appliquer à la coque composite ne sont pas les efforts et moments $N_x$, $T_z$, $M_f$ et $M_t$.\n",
        "Il conviendra donc au préalable de déterminer  ces  efforts généralisés (au sens de la théorie des coques) à appliquer. Ils sont fonction directement de  $\\sigma_{xx}$, $\\sigma_{x\\theta}$  et de l'épaisseur du stratifié $e$.\n",
        "\n",
        "\n",
        "Vous pouvez commencer par tester des stratifiés fabriqués à partir d'orientations $\\pm$ 45$^o$. Vous pourrez ensuite regarder ce que donne une configuration quasi-isotrope puis tester d'autres stratifications.\n",
        "Vous pouvez aussi faire varier légèrement le rayon moyen $R_m$ en le faisant varier entre $15\\,$mm et $30\\,$mm.\n",
        "\n",
        "Pour synthétiser votre travail, vous compléterez la section **Rapport** à la fin de ce Notebook.\n",
        "\n",
        "Dans tous les cas de figures, vous commenterez vos solutions, notamment vis à vis des règles de dessin ``classiques'' exposées dans le cours.\n",
        "Vous comparerez également la densité linéique des tubes obtenus, l'objectif étant d'obtenir le cadre le plus léger possible.\n",
        "En fonction de l'épaisseur $e$ obtenue et de $R_m$, vous discuterez de la validité des hypothèses de la CLT.\n",
        "\n",
        "\n",
        "On va maintenant procéder par étape.\n"
      ]
    },
    {
      "cell_type": "markdown",
      "metadata": {
        "id": "T1HVil_AHw0B"
      },
      "source": [
        "## Initialisation des modules python\n"
      ]
    },
    {
      "cell_type": "markdown",
      "metadata": {
        "id": "UJ94V2jmeVn_"
      },
      "source": [
        "Dans cette cellule on monte un répertoire de son propre espace Google Drive sur la machine virtuelle. **Il faut cliquer sur le lien et récupérer un code afin de s'authentifier**.\n",
        "\n",
        "**Penser à bien adapter cette cellule à votre arboresence!**\n",
        "\n",
        "Cela servira à charger le module CLT que vous aurez complété auparavant."
      ]
    },
    {
      "cell_type": "code",
      "metadata": {
        "id": "CGV3JtPCtzXK"
      },
      "source": [
        "# Permet de monter le dossier Google Drive qui nous intéresse\n",
        "\n",
        "from google.colab import drive\n",
        "drive.mount('/mnt')\n",
        "%cd '/mnt/MyDrive/Colab Notebooks/TP_velo/'\n"
      ],
      "execution_count": null,
      "outputs": []
    },
    {
      "cell_type": "markdown",
      "metadata": {
        "id": "hzqrXLdrfcUf"
      },
      "source": [
        "chargement des modules numpy et du module CLT.\n",
        "**Pensez à bien mettre le flag DEBUG à False**"
      ]
    },
    {
      "cell_type": "code",
      "metadata": {
        "id": "kjgWIQ8g0Tfz"
      },
      "source": [
        "from numpy import *\n",
        "from numpy.linalg import inv\n",
        "from matplotlib.pyplot import *\n",
        "from sys import exit\n",
        "\n",
        "# Permer de charger un autre notebook comme un module\n",
        "!pip install import_ipynb\n",
        "import import_ipynb\n",
        "# On charge donc le notebook CLT\n",
        "import CLT_a_completer as CLT\n"
      ],
      "execution_count": null,
      "outputs": []
    },
    {
      "cell_type": "markdown",
      "metadata": {
        "id": "miXf3sqHK5s2"
      },
      "source": [
        "## Calculs préliminaires"
      ]
    },
    {
      "cell_type": "markdown",
      "metadata": {
        "id": "QwASWeHaH9Y2"
      },
      "source": [
        "### Initialisation des propriétés matériau"
      ]
    },
    {
      "cell_type": "code",
      "metadata": {
        "id": "8CabCQQE0vUs"
      },
      "source": [
        "#On définit les propriétés du pli dans un dictionnaire\n",
        "prop_pli = {}\n",
        "prop_pli['El'] = 126000.\n",
        "prop_pli['Et'] = 11000.\n",
        "prop_pli['Glt'] = 6600.\n",
        "prop_pli['nult'] = 0.28\n",
        "prop_pli['thickness'] = 0.25\n",
        "prop_pli['rho'] = 1.5\n",
        "\n",
        "#On complète avec les propriétés de rupture\n",
        "prop_pli['Xt'] = 1950.\n",
        "prop_pli['Xc'] = -1000.\n",
        "prop_pli['Yt'] = 48.\n",
        "prop_pli['Yc'] = -200.\n",
        "prop_pli['Sc'] = 79.\n"
      ],
      "execution_count": null,
      "outputs": []
    },
    {
      "cell_type": "markdown",
      "metadata": {
        "id": "Cmt54nIJf61Y"
      },
      "source": [
        "### Définition du stratifié"
      ]
    },
    {
      "cell_type": "code",
      "metadata": {
        "id": "nWC-xRArGwsQ"
      },
      "source": [
        "lay_up = [0, 45, 0, 90]\n",
        "\n",
        "# La fonction len() retourne le nombre d'élements d'une liste\n",
        "nb_pli = len(lay_up)\n"
      ],
      "execution_count": null,
      "outputs": []
    },
    {
      "cell_type": "markdown",
      "metadata": {
        "id": "qJpmAQtIIaLz"
      },
      "source": [
        "### Calculs de géométrie"
      ]
    },
    {
      "cell_type": "code",
      "metadata": {
        "id": "u1Cb-LazGT_H"
      },
      "source": [
        "#Paramètres géométriques\n",
        "#Rayon moyen (mm):\n",
        "Rm=20.\n",
        "\n",
        "#Epaisseur\n",
        "e = len(lay_up)*prop_pli['thickness']\n",
        "#Rayon interne et externes(mm):\n",
        "r = ...\n",
        "R = ....\n",
        "\n",
        "#Sections et inerties de section\n",
        "Iy = pi/4.* ...\n",
        "Ig = ...\n",
        "S = ...\n"
      ],
      "execution_count": null,
      "outputs": []
    },
    {
      "cell_type": "markdown",
      "metadata": {
        "id": "8igAsznuMNGv"
      },
      "source": [
        "### Définition des efforts globaux"
      ]
    },
    {
      "cell_type": "code",
      "metadata": {
        "id": "z9ty93QDMPpv"
      },
      "source": [
        "#Efforts\n",
        "Nx = -200.\n",
        "Tz = -98.\n",
        "Mf = -200.e3  # Attention aux unités !\n",
        "Mt = 10.e3\n",
        "safety = 5."
      ],
      "execution_count": null,
      "outputs": []
    },
    {
      "cell_type": "markdown",
      "metadata": {
        "id": "8EtheZx0Wkg4"
      },
      "source": [
        "### Calcul de la masse linéique"
      ]
    },
    {
      "cell_type": "code",
      "metadata": {
        "id": "S4jmbX8VWnu2"
      },
      "source": [
        "masse_lineique =  ...\n",
        "print('Masse linéique : ', masse_lineique)"
      ],
      "execution_count": null,
      "outputs": []
    },
    {
      "cell_type": "markdown",
      "metadata": {
        "id": "ossUQ7a2G99Z"
      },
      "source": [
        "### Calcul de la matrice ABBD\n",
        "\n",
        "\n"
      ]
    },
    {
      "cell_type": "code",
      "metadata": {
        "id": "ZMcBadHMG7Po"
      },
      "source": [
        "ABBD = CLT.compute_ABBD(prop_pli, lay_up)\n",
        "print(ABBD)"
      ],
      "execution_count": null,
      "outputs": []
    },
    {
      "cell_type": "markdown",
      "metadata": {
        "id": "WNyE2Y_GMtY_"
      },
      "source": [
        "### Tracé des diagrammes polaires"
      ]
    },
    {
      "cell_type": "code",
      "metadata": {
        "id": "aimQtv-bMwqQ"
      },
      "source": [
        "CLT.trace_diagramme_polaire(prop_pli, lay_up)"
      ],
      "execution_count": null,
      "outputs": []
    },
    {
      "cell_type": "markdown",
      "metadata": {
        "id": "GDA5p1oOGKRq"
      },
      "source": [
        "###Calcul des contraintes moyennes aux points A, B, C et D"
      ]
    },
    {
      "cell_type": "code",
      "metadata": {
        "id": "Olx82YpoJYUW"
      },
      "source": [
        "# sigma_xx, etc sont des dictionnaires\n",
        "sigma_xx = {}\n",
        "sigma_xt = {}\n",
        "sigma_tt = {}\n",
        "\n",
        "#Au point A :\n",
        "sigma_xx['A'] = ...\n",
        "sigma_xt['A'] = ...\n",
        "sigma_tt['A'] = ...\n",
        "\n",
        "# #Au point B :\n",
        "sigma_xx['B'] = ...\n",
        "sigma_xt['B'] = ...\n",
        "sigma_tt['B'] = ...\n",
        "\n",
        "# #Au point C :\n",
        "sigma_xx['C'] = ...\n",
        "sigma_xt['C'] = ...\n",
        "sigma_tt['C'] = ...\n",
        "\n",
        "#Au point D :\n",
        "sigma_xx['D'] = ...\n",
        "sigma_xt['D'] = ...\n",
        "sigma_tt['D'] = ...\n"
      ],
      "execution_count": null,
      "outputs": []
    },
    {
      "cell_type": "markdown",
      "metadata": {
        "id": "poWofwVkIBK1"
      },
      "source": [
        "###Calcul des contraintes généralisées"
      ]
    },
    {
      "cell_type": "code",
      "metadata": {
        "id": "cOE-8aRLVhL2"
      },
      "source": [
        "# Point d'intérêt :\n",
        "poi = 'A'"
      ],
      "execution_count": null,
      "outputs": []
    },
    {
      "cell_type": "code",
      "metadata": {
        "id": "SYBB_UhrLn5C"
      },
      "source": [
        "Ng = np.array([..., ... , ...])\n",
        "Mg = np.array([..., ..., ...])"
      ],
      "execution_count": null,
      "outputs": []
    },
    {
      "cell_type": "markdown",
      "metadata": {
        "id": "M7FXILBJGGg8"
      },
      "source": [
        "## Calcul des déformations, des contraintes et vérification du critère de Wu\n"
      ]
    },
    {
      "cell_type": "code",
      "metadata": {
        "id": "rRy0TqHIVUp_"
      },
      "source": [
        "epsilon0, kappa = CLT.compute_macroscopic_strains(Ng, Mg, ABBD)\n",
        "CLT.trace_eps_sig_crit(epsilon0, kappa, prop_pli, lay_up)"
      ],
      "execution_count": null,
      "outputs": []
    },
    {
      "cell_type": "markdown",
      "metadata": {
        "id": "cL19twaRWgL7"
      },
      "source": [
        "## Calculs de rigidité"
      ]
    },
    {
      "cell_type": "markdown",
      "metadata": {
        "id": "N1j2p6zRXpNq"
      },
      "source": [
        "On oublie désormais le chargement particulier donné plus haut et on considère séparement :\n",
        "- un chargement de torsion pure sur toute la section\n",
        "  \n",
        "- un chargement de traction pure sur toute la section"
      ]
    },
    {
      "cell_type": "markdown",
      "metadata": {
        "id": "gkaMGfhMrVj_"
      },
      "source": [
        "### Calcul de la rigidité axiale (en traction pure)"
      ]
    },
    {
      "cell_type": "markdown",
      "metadata": {
        "id": "xvsxyU1RuiXf"
      },
      "source": [
        "On définit la rigidité axiale, $K_a$, à partir de la relation de la théorie des poutres qui relie l'effort axial à la déformation axiale :\n",
        "$$\n",
        "\\underbrace{\\sigma_{xx} S}_{\\text{effort axial}} = \\underbrace{K_a}_{\\text{rigidité axiale}} \\varepsilon^0_{xx}\n",
        "$$\n",
        "**Attention**, il s'agit ici d'un rigidité axiale par unité de longueur.\n",
        "\n",
        "Si on revient au lien entre contrainte et efforts généralisés (au sens de la CLT) en considérant une répartition de contrainte homogène dans la section de la poutre (tout à fait légitime en traction pure), on a :\n",
        "$$\n",
        "\\frac{N_{xx}}{e} S =  K_a \\varepsilon^0_{xx}\n",
        "$$\n",
        "où $e$ est l'épaisseur du stratifié.\n",
        "\n",
        "**Montrer que l'on peut alors écrire** :\n",
        "$$\n",
        "K_a = \\frac{1}{\\bar{A}_{11}}\\frac{S}{e}\n",
        "$$\n",
        "\n",
        "\n",
        "\n",
        "On rappelle que $\\overline{ABBD} = (ABBD)^{-1}$, donc $\\bar{A}_{11}$ est la composante $11$ de $(ABBD)^{-1}$\n",
        "\n",
        "\n"
      ]
    },
    {
      "cell_type": "markdown",
      "metadata": {
        "id": "oBuSR5ucyo4O"
      },
      "source": [
        "----------\n",
        "\n",
        "Démonstration :\n",
        "...\n",
        "\n",
        "\n",
        "\n",
        "\n",
        "voir ici pour savoir comment rédiger des expression mathématiques [Markdown et LaTeX](https://towardsdatascience.com/write-markdown-latex-in-the-jupyter-notebook-10985edb91fd)\n",
        "\n",
        "----------------\n"
      ]
    },
    {
      "cell_type": "markdown",
      "metadata": {
        "id": "8Mm5u9akyqqw"
      },
      "source": [
        "\n",
        "Vérifier à l'aide d'une simple cellule de calcul que $\\bar{A}_{11}^{-1}$ n'est **en général** pas égal à $A_{11}$. Avec numpy, obtenir l'inverse d'une matrice (quand elle existe) se fait par la syntaxe : inv(M)."
      ]
    },
    {
      "cell_type": "code",
      "metadata": {
        "id": "GH0i2QoP48Oa"
      },
      "source": [
        "# Montrer ..."
      ],
      "execution_count": null,
      "outputs": []
    },
    {
      "cell_type": "markdown",
      "metadata": {
        "id": "kUh12q1a6Sn3"
      },
      "source": [
        "En réalisant un développement limité de $R^2=(r+e)^2$, **montrer que l'on obtient** :\n",
        "\n",
        "$$\n",
        "K_a = 2\\pi r \\frac{1}{\\bar{A}_{11}}\n",
        "$$"
      ]
    },
    {
      "cell_type": "markdown",
      "metadata": {
        "id": "2LLM7GMGx3lZ"
      },
      "source": [
        "---------\n",
        "\n",
        "Démonstration :\n",
        "...\n",
        "\n",
        "voir ici pour savoir comment rédiger des expression mathématiques [Markdown et LaTeX](https://towardsdatascience.com/write-markdown-latex-in-the-jupyter-notebook-10985edb91fd)\n",
        "\n",
        "------------"
      ]
    },
    {
      "cell_type": "code",
      "metadata": {
        "id": "uROZjaiO9njD"
      },
      "source": [
        "r = Rm - e/2.\n",
        "R = Rm + e/2.\n",
        "\n",
        "print(f'r={r}, R={R}, e={e}')\n",
        "print(f'valeur exacte : {pi*(R**2 - r**2) / e:.2e}')\n",
        "print(f'valeur approchée : {pi*2*r:.2e}')\n",
        "\n"
      ],
      "execution_count": null,
      "outputs": []
    },
    {
      "cell_type": "markdown",
      "metadata": {
        "id": "QdQplLve7BmE"
      },
      "source": [
        "#### Calcul de $K_a$"
      ]
    },
    {
      "cell_type": "code",
      "metadata": {
        "id": "F6XfSYAX7Auf"
      },
      "source": [
        "A11b = inv(ABBD)[0,0]\n",
        "K_a = pi*2*r/A11b\n",
        "print(f'Ka = {K_a:.2e}')"
      ],
      "execution_count": null,
      "outputs": []
    },
    {
      "cell_type": "markdown",
      "metadata": {
        "id": "_CSwnQaSh6S9"
      },
      "source": [
        "### Calcul de la rigidité en torsion pure\n",
        "\n",
        "On appelle $\\alpha$ l'angle de rotation unitaire de la poutre. La théorie des poutres nous donne la formule classique :\n",
        "$$\n",
        "\\alpha = \\frac{M_t}{G^\\star I_g}\n",
        "$$\n",
        "où $G^\\star$ est le module de cisaillement apparent du matériau (module de cisaillement homogénéisé pour notre stratifié). On introduit ainsi le module de torsion $K_t$ :\n",
        "$$\n",
        "K_t = G^\\star I_g\n",
        "$$\n",
        "\n",
        "Le module $G^*$ est défini par la relation :\n",
        "$$\n",
        "\\sigma_{x\\theta} = G^\\star\\, 2\\, \\varepsilon_{x\\theta}\n",
        "$$\n",
        "D'autre part, en cisaillement pur et homogène :\n",
        "* $\\sigma_{xx}=0$ et $\\sigma_{yy}=0$\n",
        "* $\\sigma_{x\\theta}$ homogène sur le segment $[-\\frac{h}{2}, \\frac{h}{2}]$\n",
        "\n",
        "on a :\n",
        "$$\n",
        "N_{x\\theta}= e \\, \\sigma_{x\\theta}   = \\bar{A}_{66}^{-1} \\varepsilon_{x\\theta}\n",
        "$$\n",
        "\n",
        "\n",
        "Vérifier à l'aide d'une simple cellule de calcul que $\\bar{A}_{66}^{-1}$ n'est **en général** pas égal à $A_{66}$. Avec numpy, obtenir l'inverse d'une matrice (quand elle existe) se fait par la syntaxe : inv(M).\n",
        "\n",
        "\n"
      ]
    },
    {
      "cell_type": "code",
      "metadata": {
        "id": "c5qD0Z7in8_n"
      },
      "source": [
        "# Montrer ..."
      ],
      "execution_count": null,
      "outputs": []
    },
    {
      "cell_type": "markdown",
      "metadata": {
        "id": "ma2m7sCPn3fe"
      },
      "source": [
        "Il s'en suit que :\n",
        "$$\n",
        "G = \\frac{\\bar{A}^{-1}_{66}}{2 e}\n",
        "$$\n",
        "En réalisant un développement limité de $R^4=(r+e)^4$, **montrer que l'on obtient** :\n",
        "\n",
        "$$\n",
        "K_t = \\frac{\\pi}{2} 4 r^3 \\frac{1}{\\bar{A}_{66}}\n",
        "$$"
      ]
    },
    {
      "cell_type": "markdown",
      "metadata": {
        "id": "9FfN9moqyKJ4"
      },
      "source": [
        "----------------\n",
        "\n",
        "Démonstration : ...\n",
        "\n",
        "---------------"
      ]
    },
    {
      "cell_type": "markdown",
      "metadata": {
        "id": "G2lt-3jZqx1D"
      },
      "source": [
        "#### Calcul de $K_t$ :"
      ]
    },
    {
      "cell_type": "code",
      "metadata": {
        "id": "kMGhkGRVW_BN"
      },
      "source": [
        "A66b = inv(ABBD)[2,2]\n",
        "K_t = pi/2*4*r**3/A66b\n",
        "print(f'Kt = {K_t:.2e}')"
      ],
      "execution_count": null,
      "outputs": []
    },
    {
      "cell_type": "markdown",
      "metadata": {
        "id": "kPxthKD_ubZR"
      },
      "source": [
        "# Une fonction pour systématiser ça avec un stratifié et un rayon quelconque"
      ]
    },
    {
      "cell_type": "code",
      "metadata": {
        "id": "zNspLx_2tNTR"
      },
      "source": [
        "def compute_K(lay_up, Rm):\n",
        "  e = len(lay_up)*prop_pli['thickness']\n",
        "  #Rayon interne et externes(mm):\n",
        "  r = Rm - e/2.\n",
        "  R = Rm + e/2.\n",
        "\n",
        "  ABBD = CLT.compute_ABBD(prop_pli, lay_up)\n",
        "\n",
        "  #print(ABBD)\n",
        "\n",
        "  A11b = inv(ABBD)[0,0]\n",
        "  K_a = pi*2*r/A11b\n",
        "  print(f'Ka = {K_a:.2e}')\n",
        "\n",
        "  A66b = inv(ABBD)[2,2]\n",
        "  K_t = pi/2*4*r**3/A66b\n",
        "  print(f'Kt = {K_t:.2e}')\n"
      ],
      "execution_count": null,
      "outputs": []
    },
    {
      "cell_type": "code",
      "metadata": {
        "id": "7UP2uzd4uzbQ"
      },
      "source": [
        "compute_K(lay_up=lay_up, Rm=Rm)"
      ],
      "execution_count": null,
      "outputs": []
    },
    {
      "cell_type": "code",
      "metadata": {
        "id": "jtwpjMevu95R"
      },
      "source": [
        "compute_K(lay_up=[-45,+45,+45,-45], Rm=20.)"
      ],
      "execution_count": null,
      "outputs": []
    },
    {
      "cell_type": "markdown",
      "metadata": {
        "id": "_KOOi-PG_y_w"
      },
      "source": [
        "# Rapport\n",
        "\n",
        "Dans la partie précédente vous avez répondu à quelques questions et complété quelques \"trous\" dans le code. Vous avez donc compris la démarche de dimensionnement et les différentes étapes de calcul.\n",
        "\n",
        "À partir d'ici, vous allez développer un peu plus votre travail.\n",
        "On vous rappelle qu'il faut trouver un stratifié qui :\n",
        "* ne casse pas sous le chargement défini\n",
        "* qui satisfasse aux spécifications de régidité\n",
        "* qui soit le plus léger possible\n",
        "\n",
        "Vous allez donc reprendre les fonctions définies plus haut afin de trouver vos solutions.\n",
        "\n",
        "On vous demander de bien mettre en avant votre démarche et de commenter vos solutions au regard des différents éléments du cours et des règles de dessin \"classiques\". Vous comparerez également la densité linéique des tubes obtenus.\n",
        "\n",
        "\n",
        "## Pour rédiger ...\n",
        "\n",
        "... n'hésitez pas à utiliser à la fois des cellules de texte et de calcul : le Notebook est fait pour ça.\n",
        "\n",
        "Pour écrire du texte bien formaté et mettre des expressions mathématiques, visitez ce lien : [Markdown et LaTeX](https://towardsdatascience.com/write-markdown-latex-in-the-jupyter-notebook-10985edb91fd)\n",
        "\n",
        "\n",
        "**Vous serez évalués sur cette fiche de Notebook**. Vous la laisserez sur votre espace google drive et nous **donnerez un lien** (en lecture seule) pour que nous y accédions.\n",
        "Il est important que vous exécutiez toutes les cellules une dernière fois afin que nous puissions voir une version définitive sans que nous ayons à exécuter le notebook."
      ]
    },
    {
      "cell_type": "markdown",
      "metadata": {
        "id": "QRqvVJJlkTmz"
      },
      "source": [
        "... à vous de jouer"
      ]
    },
    {
      "cell_type": "code",
      "metadata": {
        "id": "Uy-V0mTfmu4E"
      },
      "source": [],
      "execution_count": null,
      "outputs": []
    }
  ]
}